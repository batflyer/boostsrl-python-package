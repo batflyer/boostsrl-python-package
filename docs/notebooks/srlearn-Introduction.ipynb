{
 "cells": [
  {
   "cell_type": "markdown",
   "metadata": {},
   "source": [
    "# An Introduction to the `srlearn` Python Package\n",
    "\n",
    "Alexander L. Hayes &mdash; Health Informatics Ph.D. Student &mdash; Indiana University Bloomington  \n",
    "Sriraam Natarajan &mdash; Professor of Computer Science at the University of Texas at Dallas\n",
    "\n",
    "Email: [hayesall@iu.edu](mailto:hayesall@iu.edu)  \n",
    "GitHub: [https://github.com/hayesall/srlearn](https://github.com/hayesall/srlearn)\n",
    "\n",
    "This notebook accompanies several parts of the user guide, refer to the following pages for more information:\n",
    "\n",
    "- [Getting Started (srlearn docs)](https://srlearn.readthedocs.io/en/latest/getting_started.html)\n",
    "- [User Guide (srlearn docs)](https://srlearn.readthedocs.io/en/latest/user_guide.html)\n",
    "\n",
    "## Quick-Start\n",
    "\n",
    "A few things are required before executing.\n",
    "\n",
    "- Unix-based system (this has not been sufficiently tested in a Windows environment)\n",
    "- Java (>=1.8)\n",
    "- Python (3.6, 3.7)\n",
    "\n",
    "Java should be installed on your system and available on your PATH (if running `java -version` results in a version number printed to the terminal, you are probably fine).\n",
    "\n",
    "`srlearn` can be installed with `pip`:\n",
    "\n",
    "```bash\n",
    "$ pip install srlearn\n",
    "```\n",
    "\n",
    "## `srlearn`"
   ]
  },
  {
   "cell_type": "code",
   "execution_count": 1,
   "metadata": {},
   "outputs": [],
   "source": [
    "import srlearn"
   ]
  },
  {
   "cell_type": "markdown",
   "metadata": {},
   "source": [
    "### Background Knowledge\n",
    "\n",
    "**Background Knowledge** currently involves specifying the **modes** for constraining the hypothesis search space. Other parameters such as `max_tree_depth` and `node_size` may be specified here as well, but these would be more appropriate defining as part of a model. In the future, these model-specific parameters may be set elsewhere."
   ]
  },
  {
   "cell_type": "code",
   "execution_count": 2,
   "metadata": {},
   "outputs": [
    {
     "name": "stdout",
     "output_type": "stream",
     "text": [
      "setParam: nodeSize=2.\n",
      "setParam: maxTreeDepth=3.\n",
      "setParam: numberOfClauses=100.\n",
      "setParam: numberOfCycles=100.\n",
      "useStdLogicVariables: true.\n",
      "mode: cancer(+Person).\n",
      "mode: smokes(+Person).\n",
      "mode: friends(+Person, -Person).\n",
      "mode: friends(-Person, +Person).\n",
      "\n"
     ]
    }
   ],
   "source": [
    "from srlearn import Background\n",
    "\n",
    "# Modes constrain the search space for hypotheses\n",
    "toy_cancer_modes = [\n",
    "    \"cancer(+Person).\",\n",
    "    \"smokes(+Person).\",\n",
    "    \"friends(+Person, -Person).\",\n",
    "    \"friends(-Person, +Person).\",\n",
    "]\n",
    "\n",
    "# Background object includes the modes and some additional parameters for how our domain may look.\n",
    "bk = Background(\n",
    "    modes=toy_cancer_modes,\n",
    "    use_std_logic_variables=True,\n",
    ")\n",
    "\n",
    "print(bk)"
   ]
  },
  {
   "cell_type": "markdown",
   "metadata": {},
   "source": [
    "### Database of clauses\n",
    "\n",
    "Our next focus should be on *the data*. Data for `srlearn` takes the form of predicate logic. Here the clauses are defined inline the code, but these could just as easily be read from a file or created with a simulator for *reinforcement learning* domains."
   ]
  },
  {
   "cell_type": "code",
   "execution_count": 3,
   "metadata": {
    "scrolled": true
   },
   "outputs": [
    {
     "name": "stdout",
     "output_type": "stream",
     "text": [
      "Positive Examples:\n",
      "['cancer(Alice).', 'cancer(Bob).', 'cancer(Chuck).', 'cancer(Fred).']\n",
      "Negative Examples:\n",
      "['cancer(Dan).', 'cancer(Earl).']\n",
      "Facts:\n",
      "['friends(Alice, Bob).', 'friends(Alice, Fred).', 'friends(Chuck, Bob).', 'friends(Chuck, Fred).', 'friends(Dan, Bob).', 'friends(Earl, Bob).', 'friends(Bob, Alice).', 'friends(Fred, Alice).', 'friends(Bob, Chuck).', 'friends(Fred, Chuck).', 'friends(Bob, Dan).', 'friends(Bob, Earl).', 'smokes(Alice).', 'smokes(Chuck).', 'smokes(Bob).']\n"
     ]
    }
   ],
   "source": [
    "from srlearn import Database\n",
    "\n",
    "train_pos = [\"cancer(Alice).\", \"cancer(Bob).\", \"cancer(Chuck).\", \"cancer(Fred).\"]\n",
    "train_neg = [\"cancer(Dan).\", \"cancer(Earl).\"]\n",
    "train_facts = [\n",
    "    \"friends(Alice, Bob).\", \"friends(Alice, Fred).\", \"friends(Chuck, Bob).\", \"friends(Chuck, Fred).\",\n",
    "    \"friends(Dan, Bob).\", \"friends(Earl, Bob).\", \"friends(Bob, Alice).\", \"friends(Fred, Alice).\",\n",
    "    \"friends(Bob, Chuck).\", \"friends(Fred, Chuck).\", \"friends(Bob, Dan).\", \"friends(Bob, Earl).\",\n",
    "    \"smokes(Alice).\", \"smokes(Chuck).\", \"smokes(Bob).\",\n",
    "]\n",
    "\n",
    "# Instantiate a `Database` object\n",
    "db = Database()\n",
    "\n",
    "# Set the positive examples, negative examples, and facts for the Database.\n",
    "db.pos = train_pos\n",
    "db.neg = train_neg\n",
    "db.facts = train_facts\n",
    "\n",
    "print(db)"
   ]
  },
  {
   "cell_type": "markdown",
   "metadata": {},
   "source": [
    "### Relational Dependency Network Learning\n",
    "\n",
    "The model API should look familiar if you've worked with [scikit-learn](https://scikit-learn.org/stable/) before. **The only difference** is that instead of passing `X,y` numpy arrays, we pass `Database` objects.\n",
    "\n",
    "We'll instantiate an RDN to see what some of the default parameters look like:"
   ]
  },
  {
   "cell_type": "code",
   "execution_count": 4,
   "metadata": {},
   "outputs": [
    {
     "name": "stdout",
     "output_type": "stream",
     "text": [
      "BoostedRDN(background=None, max_tree_depth=3, n_estimators=10, node_size=2,\n",
      "           target='None')\n"
     ]
    }
   ],
   "source": [
    "from srlearn.rdn import BoostedRDN\n",
    "\n",
    "# Instantiate an RDN with no parameters.\n",
    "dn = BoostedRDN()\n",
    "\n",
    "print(dn)"
   ]
  },
  {
   "cell_type": "markdown",
   "metadata": {},
   "source": [
    "... **but fitting this model will not make sense unless** we specify a **target** and the **background knowledge** we defined earlier."
   ]
  },
  {
   "cell_type": "code",
   "execution_count": 5,
   "metadata": {},
   "outputs": [
    {
     "data": {
      "text/plain": [
       "BoostedRDN(background=setParam: nodeSize=2.\n",
       "setParam: maxTreeDepth=3.\n",
       "setParam: numberOfClauses=100.\n",
       "setParam: numberOfCycles=100.\n",
       "useStdLogicVariables: true.\n",
       "mode: cancer(+Person).\n",
       "mode: smokes(+Person).\n",
       "mode: friends(+Person, -Person).\n",
       "mode: friends(-Person, +Person).\n",
       ",\n",
       "           max_tree_depth=3, n_estimators=10, node_size=2, target='cancer')"
      ]
     },
     "execution_count": 5,
     "metadata": {},
     "output_type": "execute_result"
    }
   ],
   "source": [
    "# Instantiate an RDN with a target to learn, and the background knowledge\n",
    "dn = BoostedRDN(\n",
    "    target=\"cancer\",\n",
    "    background=bk,\n",
    ")\n",
    "\n",
    "# Fit a model with the `fit` method\n",
    "dn.fit(db)"
   ]
  },
  {
   "cell_type": "markdown",
   "metadata": {},
   "source": [
    "### Testing our model on new data\n",
    "\n",
    "Now that we've fit a model, we can perform inference to assign probabilities to whether each example should belong to a class."
   ]
  },
  {
   "cell_type": "code",
   "execution_count": 6,
   "metadata": {},
   "outputs": [
    {
     "name": "stdout",
     "output_type": "stream",
     "text": [
      "[0.88079619 0.88079619 0.88079619 0.3075821  0.3075821 ]\n"
     ]
    }
   ],
   "source": [
    "test_pos = [\"cancer(Zod).\", \"cancer(Xena).\", \"cancer(Yoda).\"]\n",
    "test_neg = [\"cancer(Voldemort).\", \"cancer(Watson).\"]\n",
    "test_facts = [\n",
    "    \"friends(Zod, Xena).\", \"friends(Xena, Watson).\", \"friends(Watson, Voldemort).\", \"friends(Voldemort, Yoda).\",\n",
    "    \"friends(Yoda, Zod).\", \"friends(Xena, Zod).\", \"friends(Watson, Xena).\", \"friends(Voldemort, Watson).\",\n",
    "    \"friends(Yoda, Voldemort).\", \"friends(Zod, Yoda).\", \"smokes(Zod).\", \"smokes(Xena).\", \"smokes(Yoda).\",\n",
    "]\n",
    "\n",
    "test_db = Database()\n",
    "test_db.pos = test_pos\n",
    "test_db.neg = test_neg\n",
    "test_db.facts = test_facts\n",
    "\n",
    "print(dn.predict_proba(test_db))"
   ]
  }
 ],
 "metadata": {
  "kernelspec": {
   "display_name": "Python 3",
   "language": "python",
   "name": "python3"
  },
  "language_info": {
   "codemirror_mode": {
    "name": "ipython",
    "version": 3
   },
   "file_extension": ".py",
   "mimetype": "text/x-python",
   "name": "python",
   "nbconvert_exporter": "python",
   "pygments_lexer": "ipython3",
   "version": "3.7.4"
  }
 },
 "nbformat": 4,
 "nbformat_minor": 2
}
